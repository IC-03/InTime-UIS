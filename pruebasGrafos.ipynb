{
  "nbformat": 4,
  "nbformat_minor": 0,
  "metadata": {
    "colab": {
      "name": "pruebasGrafos.ipynb",
      "provenance": [],
      "collapsed_sections": [],
      "authorship_tag": "ABX9TyPrWy+CQQM1TOGdfqa7SCNl",
      "include_colab_link": true
    },
    "kernelspec": {
      "name": "python3",
      "display_name": "Python 3"
    },
    "language_info": {
      "name": "python"
    }
  },
  "cells": [
    {
      "cell_type": "markdown",
      "metadata": {
        "id": "view-in-github",
        "colab_type": "text"
      },
      "source": [
        "<a href=\"https://colab.research.google.com/github/IC-03/InTime-UIS/blob/main/pruebasGrafos.ipynb\" target=\"_parent\"><img src=\"https://colab.research.google.com/assets/colab-badge.svg\" alt=\"Open In Colab\"/></a>"
      ]
    },
    {
      "cell_type": "markdown",
      "metadata": {
        "id": "1TynTP-g-YPj"
      },
      "source": [
        "# 2) NetworkX\n",
        "\n",
        "La idea de esta segunda parte del notebook es familiarizarse con otra biblioteca para la manipulación de grafos: `NetworkX`.\n"
      ]
    },
    {
      "cell_type": "code",
      "execution_count": null,
      "metadata": {
        "id": "NIEAUTJ7XEgy"
      },
      "outputs": [],
      "source": [
        "\n",
        "import networkx as nx\n",
        "import networkx.algorithms.isomorphism as iso\n",
        "\n",
        "import scipy.io as sio\n",
        "import numpy as np\n",
        "\n"
      ]
    },
    {
      "cell_type": "markdown",
      "source": [
        "| Nomenclatura de los edificios  |                            |\n",
        "|-------------------|----------------------------------------|\n",
        "|**AMC**: Aula de ciencias máxima       | **CH**: Ciencias humanas   |\n",
        "|**IE**: Ingenieria Electrica      | **II**: Ingenieria Indrustrial   |\n",
        "|**IL**: Instituto de lenguas|**IM**: Ingenieria Mecanica|\n",
        "|**IQ**: Ingenieria Quimica | |**JBV**: Jorge Bautista V|\n"
      ],
      "metadata": {
        "id": "I0xVn9yVBeDs"
      }
    },
    {
      "cell_type": "code",
      "source": [
        "\n",
        "#Pruebas con grafos randoms\n",
        "\n",
        "G = nx.Graph() #creacion del grafo\n",
        "\n",
        "print(\"**Los vertices del GRAFO**\")\n",
        "nodes=[\"AMC\",\"CH\",\"IE\",\"II\",\"IL\",\"IM\",\"IQ\",\"JBV\",\"LAT\",\"LH\",\"LL\"\n",
        "      ,\"LABADM\",\"LP\",\"MB\",\"RSF\",\"FDC\",\"CEN\",\"DII\",\"I1\",\"I2\",\"I3\"\n",
        "      ,\"I4\",\"I5\",\"I6\"]\n",
        "\n",
        "G.add_nodes_from(nodes) #Agregando los vertices/nodos del grafo\n",
        "print(G.nodes)\n",
        "\n",
        "print(\"\\n-----------------------------------------------------------------------------------------\\n\")\n",
        "\n",
        "print(\"**Las ARISTAS del GRAFO**\")\n",
        "edges= [(\"IL\",\"I1\"),(\"IM\",\"I1\"),(\"I1\",\"I2\"),(\"I2\",\"CH\"),(\"I5\",\"I2\"),(\"CT\",\"I2\"),\n",
        "        (\"CT\",\"I3\"),(\"FDC\",\"I3\"),(\"CEN\",\"I3\"),(\"IQ\",\"I3\")]\n",
        "\n",
        "G.add_edges_from(edges) \n",
        "print(G.edges)\n",
        "\n",
        "\n"
      ],
      "metadata": {
        "colab": {
          "base_uri": "https://localhost:8080/"
        },
        "id": "FaTAPwa5YwLL",
        "outputId": "57f620a4-0541-4e00-dd44-f5f3643beef8"
      },
      "execution_count": null,
      "outputs": [
        {
          "output_type": "stream",
          "name": "stdout",
          "text": [
            "**Los vertices del GRAFO**\n",
            "['AMC', 'CH', 'IE', 'II', 'IL', 'IM', 'IQ', 'JBV', 'LAT', 'LH', 'LL', 'LABADM', 'LP', 'MB', 'RSF', 'FDC', 'CEN', 'DII', 'I1', 'I2', 'I3', 'I4', 'I5']\n",
            "\n",
            "-----------------------------------------------------------------------------------------\n",
            "\n",
            "**Las ARISTAS del GRAFO**\n",
            "[('CH', 'I2'), ('IL', 'I1'), ('IM', 'I1'), ('IQ', 'I3'), ('FDC', 'I3'), ('CEN', 'I3'), ('I1', 'I2'), ('I2', 'I5'), ('I2', 'CT'), ('I3', 'CT')]\n"
          ]
        }
      ]
    },
    {
      "cell_type": "code",
      "source": [
        "nx.draw(G, with_labels=True)"
      ],
      "metadata": {
        "colab": {
          "base_uri": "https://localhost:8080/",
          "height": 319
        },
        "id": "E8Zm9AyQboiw",
        "outputId": "474e17b8-68a7-427e-e92f-3aa60d813997"
      },
      "execution_count": null,
      "outputs": [
        {
          "output_type": "display_data",
          "data": {
            "image/png": "[encoded data removed]",
            "text/plain": [
              "<Figure size 432x288 with 1 Axes>"
            ]
          },
          "metadata": {}
        }
      ]
    },
    {
      "cell_type": "code",
      "source": [
        "nx.adj_matrix(G).todense()"
      ],
      "metadata": {
        "colab": {
          "base_uri": "https://localhost:8080/"
        },
        "id": "1tEAFUSuQc8J",
        "outputId": "b501a543-40cb-4809-9ba6-30af5d79b7cd"
      },
      "execution_count": null,
      "outputs": [
        {
          "output_type": "stream",
          "name": "stderr",
          "text": [
            "/usr/local/lib/python3.7/dist-packages/ipykernel_launcher.py:1: DeprecationWarning: adj_matrix is deprecated and will be removed in version 3.0.\n",
            "Use `adjacency_matrix` instead\n",
            "\n",
            "  \"\"\"Entry point for launching an IPython kernel.\n"
          ]
        },
        {
          "output_type": "execute_result",
          "data": {
            "text/plain": [
              "matrix([[0, 0, 0, 0, 0, 0, 0, 0, 0, 0, 0, 0, 0, 0, 0, 0, 0, 0, 0, 0, 0,\n",
              "         0, 0, 0],\n",
              "        [0, 0, 0, 0, 0, 0, 0, 0, 0, 0, 0, 0, 0, 0, 0, 0, 0, 0, 0, 1, 0,\n",
              "         0, 0, 0],\n",
              "        [0, 0, 0, 0, 0, 0, 0, 0, 0, 0, 0, 0, 0, 0, 0, 0, 0, 0, 0, 0, 0,\n",
              "         0, 0, 0],\n",
              "        [0, 0, 0, 0, 0, 0, 0, 0, 0, 0, 0, 0, 0, 0, 0, 0, 0, 0, 0, 0, 0,\n",
              "         0, 0, 0],\n",
              "        [0, 0, 0, 0, 0, 0, 0, 0, 0, 0, 0, 0, 0, 0, 0, 0, 0, 0, 1, 0, 0,\n",
              "         0, 0, 0],\n",
              "        [0, 0, 0, 0, 0, 0, 0, 0, 0, 0, 0, 0, 0, 0, 0, 0, 0, 0, 1, 0, 0,\n",
              "         0, 0, 0],\n",
              "        [0, 0, 0, 0, 0, 0, 0, 0, 0, 0, 0, 0, 0, 0, 0, 0, 0, 0, 0, 0, 1,\n",
              "         0, 0, 0],\n",
              "        [0, 0, 0, 0, 0, 0, 0, 0, 0, 0, 0, 0, 0, 0, 0, 0, 0, 0, 0, 0, 0,\n",
              "         0, 0, 0],\n",
              "        [0, 0, 0, 0, 0, 0, 0, 0, 0, 0, 0, 0, 0, 0, 0, 0, 0, 0, 0, 0, 0,\n",
              "         0, 0, 0],\n",
              "        [0, 0, 0, 0, 0, 0, 0, 0, 0, 0, 0, 0, 0, 0, 0, 0, 0, 0, 0, 0, 0,\n",
              "         0, 0, 0],\n",
              "        [0, 0, 0, 0, 0, 0, 0, 0, 0, 0, 0, 0, 0, 0, 0, 0, 0, 0, 0, 0, 0,\n",
              "         0, 0, 0],\n",
              "        [0, 0, 0, 0, 0, 0, 0, 0, 0, 0, 0, 0, 0, 0, 0, 0, 0, 0, 0, 0, 0,\n",
              "         0, 0, 0],\n",
              "        [0, 0, 0, 0, 0, 0, 0, 0, 0, 0, 0, 0, 0, 0, 0, 0, 0, 0, 0, 0, 0,\n",
              "         0, 0, 0],\n",
              "        [0, 0, 0, 0, 0, 0, 0, 0, 0, 0, 0, 0, 0, 0, 0, 0, 0, 0, 0, 0, 0,\n",
              "         0, 0, 0],\n",
              "        [0, 0, 0, 0, 0, 0, 0, 0, 0, 0, 0, 0, 0, 0, 0, 0, 0, 0, 0, 0, 0,\n",
              "         0, 0, 0],\n",
              "        [0, 0, 0, 0, 0, 0, 0, 0, 0, 0, 0, 0, 0, 0, 0, 0, 0, 0, 0, 0, 1,\n",
              "         0, 0, 0],\n",
              "        [0, 0, 0, 0, 0, 0, 0, 0, 0, 0, 0, 0, 0, 0, 0, 0, 0, 0, 0, 0, 1,\n",
              "         0, 0, 0],\n",
              "        [0, 0, 0, 0, 0, 0, 0, 0, 0, 0, 0, 0, 0, 0, 0, 0, 0, 0, 0, 0, 0,\n",
              "         0, 0, 0],\n",
              "        [0, 0, 0, 0, 1, 1, 0, 0, 0, 0, 0, 0, 0, 0, 0, 0, 0, 0, 0, 1, 0,\n",
              "         0, 0, 0],\n",
              "        [0, 1, 0, 0, 0, 0, 0, 0, 0, 0, 0, 0, 0, 0, 0, 0, 0, 0, 1, 0, 0,\n",
              "         0, 1, 1],\n",
              "        [0, 0, 0, 0, 0, 0, 1, 0, 0, 0, 0, 0, 0, 0, 0, 1, 1, 0, 0, 0, 0,\n",
              "         0, 0, 1],\n",
              "        [0, 0, 0, 0, 0, 0, 0, 0, 0, 0, 0, 0, 0, 0, 0, 0, 0, 0, 0, 0, 0,\n",
              "         0, 0, 0],\n",
              "        [0, 0, 0, 0, 0, 0, 0, 0, 0, 0, 0, 0, 0, 0, 0, 0, 0, 0, 0, 1, 0,\n",
              "         0, 0, 0],\n",
              "        [0, 0, 0, 0, 0, 0, 0, 0, 0, 0, 0, 0, 0, 0, 0, 0, 0, 0, 0, 1, 1,\n",
              "         0, 0, 0]], dtype=int64)"
            ]
          },
          "metadata": {},
          "execution_count": 9
        }
      ]
    },
    {
      "cell_type": "code",
      "source": [
        ""
      ],
      "metadata": {
        "id": "-w7PCeXVQc40"
      },
      "execution_count": null,
      "outputs": []
    }
  ]
}