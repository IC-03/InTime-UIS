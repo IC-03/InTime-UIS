{
  "nbformat": 4,
  "nbformat_minor": 0,
  "metadata": {
    "colab": {
      "name": "grafoMD2.ipynb",
      "provenance": [],
      "collapsed_sections": [],
      "authorship_tag": "ABX9TyN6DNVimGHE7RXU/R2Mo0Ch",
      "include_colab_link": true
    },
    "kernelspec": {
      "name": "python3",
      "display_name": "Python 3"
    },
    "language_info": {
      "name": "python"
    }
  },
  "cells": [
    {
      "cell_type": "markdown",
      "metadata": {
        "id": "view-in-github",
        "colab_type": "text"
      },
      "source": [
        "<a href=\"https://colab.research.google.com/github/IC-03/InTime-UIS/blob/main/grafoMD2.ipynb\" target=\"_parent\"><img src=\"https://colab.research.google.com/assets/colab-badge.svg\" alt=\"Open In Colab\"/></a>"
      ]
    },
    {
      "cell_type": "code",
      "source": [
        "'''\n",
        "---------------- NOMENCLATURA DE LOS EDIFICIOS: -------------------------|\n",
        "- EN: Entrada de la 27         | - FINGF: Facultad de Fisicomecanicas\n",
        "- CH: Ciencias Humanas         | - DI: Diseño industrial\n",
        "- IM: Ingenieria Mecanica      | - CEIM:              \n",
        "- CT: Camilo Torres            | - CAYFAV: CapriuisyFavuis\n",
        "- CEN: Centic                  | - LABAT: Laboratorio de alta tension\n",
        "- FDC : Facultad de Ciencias   | - LABDI: Laboratorio de diseli undustrial\n",
        "- IE: Ingenieria Electrica     | - LABHI: Laboratorio de Hidraulica\n",
        "- II: Ingenieria Industrial    | - PDA: Planta de Aceros\n",
        "- IL: Instituto de Lenguas     | - JBV: Jorge Bautista V\n",
        "- IQ: Ingenieria Quimica       | - DACA: Daniel Casas\n",
        "- AMM: Aula Maxima de Mecanica | - AMF: Aula Maxima de Fisica\n",
        "-E3T: Electrica Electronica y Telecomunicaciones \n",
        "\n",
        "'''"
      ],
      "metadata": {
        "id": "vScXF2hRCh4b"
      },
      "execution_count": null,
      "outputs": []
    },
    {
      "cell_type": "code",
      "execution_count": 18,
      "metadata": {
        "id": "qUXg90r0Awmn"
      },
      "outputs": [],
      "source": [
        "import networkx as nx\n",
        "import networkx.algorithms.isomorphism as iso\n",
        "import scipy.io as sio\n",
        "import numpy as np\n",
        "import pandas as pd"
      ]
    },
    {
      "cell_type": "code",
      "source": [
        "#Esto nos ayuda a cargar el archivo de excel para convertir a csv\n",
        "from google.colab import files\n",
        "files.upload()"
      ],
      "metadata": {
        "id": "-ec4JcvHhgcE"
      },
      "execution_count": null,
      "outputs": []
    },
    {
      "cell_type": "code",
      "source": [
        "#Convirtiendo el archivo excel a df\n",
        "df = pd.read_excel(\"grafo.xlsx\", index_col=None)"
      ],
      "metadata": {
        "id": "V5F_SyOyE-mj"
      },
      "execution_count": 20,
      "outputs": []
    },
    {
      "cell_type": "code",
      "source": [
        "df.head()"
      ],
      "metadata": {
        "colab": {
          "base_uri": "https://localhost:8080/",
          "height": 206
        },
        "id": "XJZhpN9RHjrt",
        "outputId": "1ff99636-c216-49b6-b678-e86c8acecfa8"
      },
      "execution_count": 21,
      "outputs": [
        {
          "output_type": "execute_result",
          "data": {
            "text/html": [
              "\n",
              "  <div id=\"df-08c1b014-2668-4aeb-8255-aa5136f5f507\">\n",
              "    <div class=\"colab-df-container\">\n",
              "      <div>\n",
              "<style scoped>\n",
              "    .dataframe tbody tr th:only-of-type {\n",
              "        vertical-align: middle;\n",
              "    }\n",
              "\n",
              "    .dataframe tbody tr th {\n",
              "        vertical-align: top;\n",
              "    }\n",
              "\n",
              "    .dataframe thead th {\n",
              "        text-align: right;\n",
              "    }\n",
              "</style>\n",
              "<table border=\"1\" class=\"dataframe\">\n",
              "  <thead>\n",
              "    <tr style=\"text-align: right;\">\n",
              "      <th></th>\n",
              "      <th>Origen</th>\n",
              "      <th>Destino</th>\n",
              "      <th>Peso</th>\n",
              "    </tr>\n",
              "  </thead>\n",
              "  <tbody>\n",
              "    <tr>\n",
              "      <th>0</th>\n",
              "      <td>EN</td>\n",
              "      <td>I0</td>\n",
              "      <td>180</td>\n",
              "    </tr>\n",
              "    <tr>\n",
              "      <th>1</th>\n",
              "      <td>IL</td>\n",
              "      <td>I0</td>\n",
              "      <td>85</td>\n",
              "    </tr>\n",
              "    <tr>\n",
              "      <th>2</th>\n",
              "      <td>IL</td>\n",
              "      <td>I1</td>\n",
              "      <td>121</td>\n",
              "    </tr>\n",
              "    <tr>\n",
              "      <th>3</th>\n",
              "      <td>AMM</td>\n",
              "      <td>I1</td>\n",
              "      <td>17</td>\n",
              "    </tr>\n",
              "    <tr>\n",
              "      <th>4</th>\n",
              "      <td>IM</td>\n",
              "      <td>I1</td>\n",
              "      <td>25</td>\n",
              "    </tr>\n",
              "  </tbody>\n",
              "</table>\n",
              "</div>\n",
              "      <button class=\"colab-df-convert\" onclick=\"convertToInteractive('df-08c1b014-2668-4aeb-8255-aa5136f5f507')\"\n",
              "              title=\"Convert this dataframe to an interactive table.\"\n",
              "              style=\"display:none;\">\n",
              "        \n",
              "  <svg xmlns=\"http://www.w3.org/2000/svg\" height=\"24px\"viewBox=\"0 0 24 24\"\n",
              "       width=\"24px\">\n",
              "    <path d=\"M0 0h24v24H0V0z\" fill=\"none\"/>\n",
              "    <path d=\"M18.56 5.44l.94 2.06.94-2.06 2.06-.94-2.06-.94-.94-2.06-.94 2.06-2.06.94zm-11 1L8.5 8.5l.94-2.06 2.06-.94-2.06-.94L8.5 2.5l-.94 2.06-2.06.94zm10 10l.94 2.06.94-2.06 2.06-.94-2.06-.94-.94-2.06-.94 2.06-2.06.94z\"/><path d=\"M17.41 7.96l-1.37-1.37c-.4-.4-.92-.59-1.43-.59-.52 0-1.04.2-1.43.59L10.3 9.45l-7.72 7.72c-.78.78-.78 2.05 0 2.83L4 21.41c.39.39.9.59 1.41.59.51 0 1.02-.2 1.41-.59l7.78-7.78 2.81-2.81c.8-.78.8-2.07 0-2.86zM5.41 20L4 18.59l7.72-7.72 1.47 1.35L5.41 20z\"/>\n",
              "  </svg>\n",
              "      </button>\n",
              "      \n",
              "  <style>\n",
              "    .colab-df-container {\n",
              "      display:flex;\n",
              "      flex-wrap:wrap;\n",
              "      gap: 12px;\n",
              "    }\n",
              "\n",
              "    .colab-df-convert {\n",
              "      background-color: #E8F0FE;\n",
              "      border: none;\n",
              "      border-radius: 50%;\n",
              "      cursor: pointer;\n",
              "      display: none;\n",
              "      fill: #1967D2;\n",
              "      height: 32px;\n",
              "      padding: 0 0 0 0;\n",
              "      width: 32px;\n",
              "    }\n",
              "\n",
              "    .colab-df-convert:hover {\n",
              "      background-color: #E2EBFA;\n",
              "      box-shadow: 0px 1px 2px rgba(60, 64, 67, 0.3), 0px 1px 3px 1px rgba(60, 64, 67, 0.15);\n",
              "      fill: #174EA6;\n",
              "    }\n",
              "\n",
              "    [theme=dark] .colab-df-convert {\n",
              "      background-color: #3B4455;\n",
              "      fill: #D2E3FC;\n",
              "    }\n",
              "\n",
              "    [theme=dark] .colab-df-convert:hover {\n",
              "      background-color: #434B5C;\n",
              "      box-shadow: 0px 1px 3px 1px rgba(0, 0, 0, 0.15);\n",
              "      filter: drop-shadow(0px 1px 2px rgba(0, 0, 0, 0.3));\n",
              "      fill: #FFFFFF;\n",
              "    }\n",
              "  </style>\n",
              "\n",
              "      <script>\n",
              "        const buttonEl =\n",
              "          document.querySelector('#df-08c1b014-2668-4aeb-8255-aa5136f5f507 button.colab-df-convert');\n",
              "        buttonEl.style.display =\n",
              "          google.colab.kernel.accessAllowed ? 'block' : 'none';\n",
              "\n",
              "        async function convertToInteractive(key) {\n",
              "          const element = document.querySelector('#df-08c1b014-2668-4aeb-8255-aa5136f5f507');\n",
              "          const dataTable =\n",
              "            await google.colab.kernel.invokeFunction('convertToInteractive',\n",
              "                                                     [key], {});\n",
              "          if (!dataTable) return;\n",
              "\n",
              "          const docLinkHtml = 'Like what you see? Visit the ' +\n",
              "            '<a target=\"_blank\" href=https://colab.research.google.com/notebooks/data_table.ipynb>data table notebook</a>'\n",
              "            + ' to learn more about interactive tables.';\n",
              "          element.innerHTML = '';\n",
              "          dataTable['output_type'] = 'display_data';\n",
              "          await google.colab.output.renderOutput(dataTable, element);\n",
              "          const docLink = document.createElement('div');\n",
              "          docLink.innerHTML = docLinkHtml;\n",
              "          element.appendChild(docLink);\n",
              "        }\n",
              "      </script>\n",
              "    </div>\n",
              "  </div>\n",
              "  "
            ],
            "text/plain": [
              "  Origen Destino  Peso\n",
              "0     EN      I0   180\n",
              "1     IL      I0    85\n",
              "2     IL      I1   121\n",
              "3    AMM      I1    17\n",
              "4     IM      I1    25"
            ]
          },
          "metadata": {},
          "execution_count": 21
        }
      ]
    },
    {
      "cell_type": "code",
      "source": [
        "G = nx.from_pandas_edgelist(df,source='Origen',target='Destino',edge_attr='Peso')"
      ],
      "metadata": {
        "id": "4kbTAqzBH529"
      },
      "execution_count": 22,
      "outputs": []
    },
    {
      "cell_type": "code",
      "source": [
        "#Nodos del Grafo\n",
        "G.nodes()"
      ],
      "metadata": {
        "colab": {
          "base_uri": "https://localhost:8080/"
        },
        "id": "W9GG9_50IFw3",
        "outputId": "737ea7aa-4b8d-4f2e-980b-99addd91fe28"
      },
      "execution_count": 23,
      "outputs": [
        {
          "output_type": "execute_result",
          "data": {
            "text/plain": [
              "NodeView(('EN', 'I0', 'IL', 'I1', 'AMM', 'IM', 'CT', 'I2', 'CEN', 'I3', 'FDC', 'IQ', 'AMF', 'CAYFA', 'JBV', 'I4', 'PDA', 'FINGF', 'DACA', 'I5', 'CEIAM', 'I6', 'DI', 'I7', 'II', 'E3T', 'I8', 'LABAT', 'LABHI', 'TDI', 'I9', 'CH'))"
            ]
          },
          "metadata": {},
          "execution_count": 23
        }
      ]
    },
    {
      "cell_type": "code",
      "source": [
        "#Aristas del Grafo \n",
        "G.edges()"
      ],
      "metadata": {
        "colab": {
          "base_uri": "https://localhost:8080/"
        },
        "id": "JRVzlf38ImaP",
        "outputId": "3ab86413-10d5-4935-d75c-7c9ce4faafc3"
      },
      "execution_count": 24,
      "outputs": [
        {
          "output_type": "execute_result",
          "data": {
            "text/plain": [
              "EdgeView([('EN', 'I0'), ('EN', 'I9'), ('I0', 'IL'), ('I0', 'I1'), ('IL', 'I1'), ('IL', 'I6'), ('I1', 'AMM'), ('I1', 'IM'), ('I1', 'I2'), ('IM', 'I9'), ('CT', 'I2'), ('CT', 'I3'), ('I2', 'CEN'), ('I2', 'I6'), ('I2', 'I9'), ('I2', 'I3'), ('CEN', 'I3'), ('I3', 'FDC'), ('I3', 'IQ'), ('I3', 'AMF'), ('I3', 'CAYFA'), ('I3', 'I4'), ('AMF', 'I8'), ('CAYFA', 'I8'), ('JBV', 'I4'), ('I4', 'PDA'), ('I4', 'FINGF'), ('I4', 'I5'), ('DACA', 'I5'), ('I5', 'CEIAM'), ('I6', 'DI'), ('I6', 'I7'), ('DI', 'I7'), ('I7', 'II'), ('I7', 'E3T'), ('I7', 'I8'), ('E3T', 'I8'), ('I8', 'LABAT'), ('I8', 'LABHI'), ('I8', 'TDI'), ('I9', 'CH')])"
            ]
          },
          "metadata": {},
          "execution_count": 24
        }
      ]
    },
    {
      "cell_type": "code",
      "source": [
        "#Grado del Grafo \n",
        "G.order()"
      ],
      "metadata": {
        "colab": {
          "base_uri": "https://localhost:8080/"
        },
        "id": "ucdDT7WPItH1",
        "outputId": "19a99560-4bdc-4b25-c344-53b07596e94f"
      },
      "execution_count": 25,
      "outputs": [
        {
          "output_type": "execute_result",
          "data": {
            "text/plain": [
              "32"
            ]
          },
          "metadata": {},
          "execution_count": 25
        }
      ]
    },
    {
      "cell_type": "code",
      "source": [
        "#Se grafica el grafo\n",
        "nx.draw(G, with_labels=True)"
      ],
      "metadata": {
        "colab": {
          "base_uri": "https://localhost:8080/",
          "height": 319
        },
        "id": "QnwK2l3jJLos",
        "outputId": "5d5b4579-ef89-4281-828e-e41c2a67f4e0"
      },
      "execution_count": 28,
      "outputs": [
        {
          "output_type": "display_data",
          "data": {
            "image/png": "[encoded data removed]",
            "text/plain": [
              "<Figure size 432x288 with 1 Axes>"
            ]
          },
          "metadata": {}
        }
      ]
    },
    {
      "cell_type": "code",
      "source": [
        "#Se realiza una prueba utilizando el algoritmo de Dijsktra\n",
        "djk_path= nx.dijkstra_path(G, source='EN', target='LABAT', weight='Peso')\n",
        "djk_path"
      ],
      "metadata": {
        "colab": {
          "base_uri": "https://localhost:8080/"
        },
        "id": "ui14jUxKKOGF",
        "outputId": "29bc78f3-9a4c-409a-a099-bc6a99d92a5e"
      },
      "execution_count": 29,
      "outputs": [
        {
          "output_type": "execute_result",
          "data": {
            "text/plain": [
              "['EN', 'I9', 'I2', 'CT', 'I3', 'AMF', 'I8', 'LABAT']"
            ]
          },
          "metadata": {},
          "execution_count": 29
        }
      ]
    },
    {
      "cell_type": "code",
      "source": [
        "#Se realiza una sefunda prueba utilizando el algoritmo de Dijsktra y pidiendole el inicio y fin de la ruta\n",
        "print(\"Escribe las inicales de los edificos en ***Mayuscula***\")\n",
        "x= input(\"Ingresa las iniciales del edifico de Inicio: \")\n",
        "y= input(\"Ingresa las iniciales del edifico de Destino: \")\n",
        "\n",
        "djk_path= nx.dijkstra_path(G, source= x, target= y, weight='Peso')\n",
        "djk_path"
      ],
      "metadata": {
        "colab": {
          "base_uri": "https://localhost:8080/"
        },
        "id": "gzyBoeElK4gm",
        "outputId": "3050e717-1986-4cee-b68a-a6172b75e208"
      },
      "execution_count": 30,
      "outputs": [
        {
          "name": "stdout",
          "output_type": "stream",
          "text": [
            "Escribe las inicales de los edificos en ***Mayuscula***\n",
            "Ingresa las iniciales del edifico de Inicio: EN\n",
            "Ingresa las iniciales del edifico de Destino: LABAT\n"
          ]
        },
        {
          "output_type": "execute_result",
          "data": {
            "text/plain": [
              "['EN', 'I9', 'I2', 'CT', 'I3', 'AMF', 'I8', 'LABAT']"
            ]
          },
          "metadata": {},
          "execution_count": 30
        }
      ]
    },
    {
      "cell_type": "code",
      "source": [
        "#En esta impresion a pantalla mostramos la cantidad total de puntos por lo que el usuario recorre y la distancia total en metros.\n",
        "print(f\"Utd recorrera en total: {len(djk_path)} puntos.\\n La distancia en metros es {nx.dijkstra_path_length(G, 'EN', 'LABAT', 'Peso')}\")"
      ],
      "metadata": {
        "colab": {
          "base_uri": "https://localhost:8080/"
        },
        "id": "Jq1by24FkcN6",
        "outputId": "8958d014-9d44-4fad-b168-f26ead70d730"
      },
      "execution_count": 35,
      "outputs": [
        {
          "output_type": "stream",
          "name": "stdout",
          "text": [
            "Utd recorrera en total: 8 puntos.\n",
            " La distancia en metros es 435\n"
          ]
        }
      ]
    },
    {
      "cell_type": "code",
      "source": [
        "#Este archivo nos  ayuda a exportar el grafo graficado \n",
        "#mas arriba a un archivo modificable en ghepi y asi realizar mas \"Bonito el grafo\"\n",
        "nx.write_gexf(G,'grafo.gexf',version='1.2draft')"
      ],
      "metadata": {
        "id": "LzMQpA02L1fJ"
      },
      "execution_count": 31,
      "outputs": []
    }
  ]
}